import numpy as np
import matplotlib.pyplot as plt
import scipy.signal
import scipy.io

# FUNCTION DEFINITIONS


# MAIN LOOP

if __name__ == '__main__':
